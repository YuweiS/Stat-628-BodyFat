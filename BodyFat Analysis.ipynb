{
 "cells": [
  {
   "cell_type": "markdown",
   "metadata": {},
   "source": [
    "# Summary of BodyFat Analysis"
   ]
  },
  {
   "cell_type": "markdown",
   "metadata": {},
   "source": [
    "# 1. Introduction"
   ]
  },
  {
   "cell_type": "markdown",
   "metadata": {},
   "source": [
    "The body fat percentage of a human or other living being is the total mass of fat divided by total body mass, times 100; body fat includes essential body fat and storage body fat. Essential body fat is necessary to maintain life and reproductive functions. Epidemiologically, the percentage of body fat in an individual varies according to sex and age. The body fat percentage is a measure of fitness level, since it is the only body measurement which directly calculates a person's relative body composition without regard to height or weight.\n",
    "\n",
    "However, accurate measurement of body fat is costly and it is desirable to use more convenient methods to estimate body fat. There are many methods to build predictive models, from linear regression to Ridge regression to more complicated ones like random forest. In this project, our group try to come up with a simple, robust and accurate method to estimate percentage of body fat using clinically available measurements. Thus in this scenario, we mainly focus on multiple linear regression models.\n",
    "\n",
    "After our analysis, we find that *ABDOMEN*, *WRIST* and *WEIGHT* are three variables that best predict *BODYFAT*."
   ]
  },
  {
   "cell_type": "markdown",
   "metadata": {},
   "source": [
    "# 2. Data Preprocessing"
   ]
  },
  {
   "cell_type": "markdown",
   "metadata": {},
   "source": [
    "The data *BodyFat* includes a response column, ***BODYFAT***, an index column, ***IDNO***, and 15 possible variables including *AGE*, *WEIGHT(lbs)*, *HEIGHT(inches)*, etc. The measurement units of each variable are shown in table below. "
   ]
  },
  {
   "cell_type": "markdown",
   "metadata": {},
   "source": [
    "**BODYFAT**|**AGE**|**WEIGHT**|**HEIGHT**|**ADIPOSITY**|**NECK**|**CHEST**|**ABDOMEN**|**HIP**|**THIGH**|**KNEE**|**ANKLE**|**BICEPS**|**FOREARM**|**WRIST**\n",
    ":-----:|:-----:|:-----:|:-----:|:-----:|:-----:|:-----:|:-----:|:-----:|:-----:|:-----:|:-----:|:-----:|:-----:|:-----:\n",
    "percentage|years|lbs|inches|bmi|cm|cm|cm|cm|cm|cm|cm|cm|cm|cm"
   ]
  },
  {
   "cell_type": "markdown",
   "metadata": {},
   "source": [
    " Notice here we do not consider ***DENSITY*** as a possible variable because *density* and *bodyfat* are perfectly related to each other by the formula $100*B = 495/D - 450$. Moreover, *density* is not a variable that is able to be measured directly, while our goal is to come up with a model to estimate bodyfat using clinically available measurements.\n",
    "\n",
    "To begin with, we take a rough look at the column *BODYFAT*."
   ]
  },
  {
   "cell_type": "code",
   "execution_count": 33,
   "metadata": {},
   "outputs": [
    {
     "data": {
      "text/plain": [
       "   Min. 1st Qu.  Median    Mean 3rd Qu.    Max. \n",
       "   0.00   12.80   19.00   18.94   24.60   45.10 "
      ]
     },
     "metadata": {},
     "output_type": "display_data"
    }
   ],
   "source": [
    "BodyFat=read.csv(\"data/BodyFat.csv\",header=T)\n",
    "summary(BodyFat$BODYFAT)"
   ]
  },
  {
   "cell_type": "markdown",
   "metadata": {},
   "source": [
    "The minimum *BODYFAT* value is 0, which obviously is abnormal. It's probably a typo. In order to make our model more accurate, we simply delete this abnormal observation in the following analysis.\n",
    "\n",
    "Next, we would like to see if there are more outliers or influential points in this dataset."
   ]
  },
  {
   "cell_type": "code",
   "execution_count": 34,
   "metadata": {},
   "outputs": [
    {
     "data": {
      "image/png": "[encoded data removed]",
      "text/plain": [
       "plot without title"
      ]
     },
     "metadata": {},
     "output_type": "display_data"
    }
   ],
   "source": [
    "options(repr.plot.width=7, repr.plot.height=3)\n",
    "source(\"code/pre-clean.R\")"
   ]
  },
  {
   "cell_type": "code",
   "execution_count": 35,
   "metadata": {
    "scrolled": true
   },
   "outputs": [
    {
     "data": {
      "text/html": [
       "<table>\n",
       "<thead><tr><th></th><th scope=col>BODYFAT</th><th scope=col>DENSITY</th><th scope=col>AGE</th><th scope=col>WEIGHT</th><th scope=col>HEIGHT</th><th scope=col>ADIPOSITY</th><th scope=col>NECK</th><th scope=col>CHEST</th><th scope=col>ABDOMEN</th><th scope=col>HIP</th><th scope=col>THIGH</th><th scope=col>KNEE</th><th scope=col>ANKLE</th><th scope=col>BICEPS</th><th scope=col>FOREARM</th><th scope=col>WRIST</th></tr></thead>\n",
       "<tbody>\n",
       "\t<tr><th scope=row>39</th><td>33.8  </td><td>1.0202</td><td>46    </td><td>363.15</td><td>72.25 </td><td>48.9  </td><td>51.2  </td><td>136.2 </td><td>148.1 </td><td>147.7 </td><td>87.3  </td><td>49.1  </td><td>29.6  </td><td>45.0  </td><td>29.0  </td><td>21.4  </td></tr>\n",
       "\t<tr><th scope=row>42</th><td>31.7  </td><td>1.0250</td><td>44    </td><td>205.00</td><td>29.50 </td><td>29.9  </td><td>36.6  </td><td>106.0 </td><td>104.3 </td><td>115.5 </td><td>70.6  </td><td>42.5  </td><td>23.7  </td><td>33.6  </td><td>28.7  </td><td>17.4  </td></tr>\n",
       "</tbody>\n",
       "</table>\n"
      ],
      "text/latex": [
       "\\begin{tabular}{r|llllllllllllllll}\n",
       "  & BODYFAT & DENSITY & AGE & WEIGHT & HEIGHT & ADIPOSITY & NECK & CHEST & ABDOMEN & HIP & THIGH & KNEE & ANKLE & BICEPS & FOREARM & WRIST\\\\\n",
       "\\hline\n",
       "\t39 & 33.8   & 1.0202 & 46     & 363.15 & 72.25  & 48.9   & 51.2   & 136.2  & 148.1  & 147.7  & 87.3   & 49.1   & 29.6   & 45.0   & 29.0   & 21.4  \\\\\n",
       "\t42 & 31.7   & 1.0250 & 44     & 205.00 & 29.50  & 29.9   & 36.6   & 106.0  & 104.3  & 115.5  & 70.6   & 42.5   & 23.7   & 33.6   & 28.7   & 17.4  \\\\\n",
       "\\end{tabular}\n"
      ],
      "text/markdown": [
       "\n",
       "| <!--/--> | BODYFAT | DENSITY | AGE | WEIGHT | HEIGHT | ADIPOSITY | NECK | CHEST | ABDOMEN | HIP | THIGH | KNEE | ANKLE | BICEPS | FOREARM | WRIST | \n",
       "|---|---|\n",
       "| 39 | 33.8   | 1.0202 | 46     | 363.15 | 72.25  | 48.9   | 51.2   | 136.2  | 148.1  | 147.7  | 87.3   | 49.1   | 29.6   | 45.0   | 29.0   | 21.4   | \n",
       "| 42 | 31.7   | 1.0250 | 44     | 205.00 | 29.50  | 29.9   | 36.6   | 106.0  | 104.3  | 115.5  | 70.6   | 42.5   | 23.7   | 33.6   | 28.7   | 17.4   | \n",
       "\n",
       "\n"
      ],
      "text/plain": [
       "   BODYFAT DENSITY AGE WEIGHT HEIGHT ADIPOSITY NECK CHEST ABDOMEN HIP   THIGH\n",
       "39 33.8    1.0202  46  363.15 72.25  48.9      51.2 136.2 148.1   147.7 87.3 \n",
       "42 31.7    1.0250  44  205.00 29.50  29.9      36.6 106.0 104.3   115.5 70.6 \n",
       "   KNEE ANKLE BICEPS FOREARM WRIST\n",
       "39 49.1 29.6  45.0   29.0    21.4 \n",
       "42 42.5 23.7  33.6   28.7    17.4 "
      ]
     },
     "metadata": {},
     "output_type": "display_data"
    }
   ],
   "source": [
    "BodyFat[c(39,42),]"
   ]
  },
  {
   "cell_type": "markdown",
   "metadata": {},
   "source": [
    "The 42nd observation is only 29.5 inches tall(75cm), which is way shorter than normal people. However, the *weight* and *adiposity* value indicates the value *height* may be a typo. In this case, we have strong evidence to delete it.\n",
    "\n",
    "From the distribution of *WEIGHT*, we can see the 39th observation is way heavier than other observations.\n",
    "In the sense of building a robust model for normal people, we do not consider the extreme example like this. Thus, we also remove the 39th record in further analysis.\n",
    "\n",
    "We do not delete the rest potential outliers, since they do not show obvious abnormality and we try to keep as much information as possible."
   ]
  },
  {
   "cell_type": "markdown",
   "metadata": {},
   "source": [
    "# 3. Statistical Modeling"
   ]
  },
  {
   "cell_type": "markdown",
   "metadata": {},
   "source": [
    "Based on prior knowledge of bodyfat, we think linear model is an appropriate model in this analysis. In order to achieve the goal of coming up with a simple, robust, and accurate “rule-of-thumb” method, we try to fit a multiple linear model. However, 14 variables seem to be too much in practice. We use different methods to do variable selection, and compare their performances.\n",
    "\n",
    "Before modeling, we randomly choose 200 data as train set, and leave the rest as validation set. All the models are based on train set only, and tested on the validation set to check performance. "
   ]
  },
  {
   "cell_type": "markdown",
   "metadata": {},
   "source": [
    "Our goal is to find a model that is\n",
    "* *simple*：no more than 5 variables\n",
    "* *accurate*: predict well on the validation set\n",
    "* *robust*: is not influenced too much by extreme values"
   ]
  },
  {
   "cell_type": "markdown",
   "metadata": {},
   "source": [
    "## 3.1 Multiple Linear Regression"
   ]
  },
  {
   "cell_type": "markdown",
   "metadata": {},
   "source": [
    "Based on other published work on this topic, a multiple linear model is likely to fit well:\n",
    "\n",
    "$$ \\text{(Body Fat %)}_i = \\beta_0 + \\beta_1x_1 + \\dots + \\beta_p x_p + \\epsilon_i, \\quad{} \\epsilon_i \\sim N(0,\\sigma^2) $$\n",
    "\n",
    "However, 14 variables are too many for a model to predict bodyfat, especially in this case. Some variables may not be useful, and may have high collinearity, which requires us to remove thr redundant ones. For example, in common sense, a person who is heavy also tends to have larger body circumferences."
   ]
  },
  {
   "cell_type": "markdown",
   "metadata": {},
   "source": [
    "### 3.1.1 Variable Selection"
   ]
  },
  {
   "cell_type": "markdown",
   "metadata": {},
   "source": [
    "We tried stepwise model selection based on crteria like Mallow's Cp, AIC and BIC, and fit multiple linear models based on the variables selected. We compare each model's performance on validation set, and select one method that have the smallest mean squared error: $MSE = \\frac{1}{N}\\sum\\limits_{i=1}{N}(y_i-\\hat y_i)^2$"
   ]
  },
  {
   "cell_type": "markdown",
   "metadata": {},
   "source": [
    "**Method**|Mallow's Cp|AIC|BIC\n",
    ":-----:|:-----:|:-----:|:-----:\n",
    "**MSE**|15.069|14.702|13.989\n",
    "\n",
    "\n",
    "We find that when using the BIC method, the mean square error on validation set is the smallest. Variables *ABDOMEN*, *WRIST* and *WEIGHT* are selected, as shown below.\n",
    "At this point, we come up with a multiple linear regression:\n",
    "\n",
    "$$\\text{BodyFat}\\text{ ~ }\\text{Abdomen}+\\text{Wrist}+\\text{Weight}$$\n",
    "\n",
    "The coefficient of this model:"
   ]
  },
  {
   "cell_type": "code",
   "execution_count": 36,
   "metadata": {},
   "outputs": [
    {
     "data": {
      "text/html": [
       "<table>\n",
       "<thead><tr><th></th><th scope=col>Estimate</th><th scope=col>Std. Error</th><th scope=col>t value</th><th scope=col>Pr(&gt;|t|)</th></tr></thead>\n",
       "<tbody>\n",
       "\t<tr><th scope=row>(Intercept)</th><td>-23.794</td><td>7.177  </td><td>-3.315 </td><td>0.001  </td></tr>\n",
       "\t<tr><th scope=row>ABDOMEN</th><td>  0.852</td><td>0.060  </td><td>14.309 </td><td>0.000  </td></tr>\n",
       "\t<tr><th scope=row>WRIST</th><td> -1.258</td><td>0.461  </td><td>-2.728 </td><td>0.007  </td></tr>\n",
       "\t<tr><th scope=row>WEIGHT</th><td> -0.073</td><td>0.025  </td><td>-2.914 </td><td>0.004  </td></tr>\n",
       "</tbody>\n",
       "</table>\n"
      ],
      "text/latex": [
       "\\begin{tabular}{r|llll}\n",
       "  & Estimate & Std. Error & t value & Pr(>\\textbar{}t\\textbar{})\\\\\n",
       "\\hline\n",
       "\t(Intercept) & -23.794 & 7.177   & -3.315  & 0.001  \\\\\n",
       "\tABDOMEN &   0.852 & 0.060   & 14.309  & 0.000  \\\\\n",
       "\tWRIST &  -1.258 & 0.461   & -2.728  & 0.007  \\\\\n",
       "\tWEIGHT &  -0.073 & 0.025   & -2.914  & 0.004  \\\\\n",
       "\\end{tabular}\n"
      ],
      "text/markdown": [
       "\n",
       "| <!--/--> | Estimate | Std. Error | t value | Pr(>|t|) | \n",
       "|---|---|---|---|\n",
       "| (Intercept) | -23.794 | 7.177   | -3.315  | 0.001   | \n",
       "| ABDOMEN |   0.852 | 0.060   | 14.309  | 0.000   | \n",
       "| WRIST |  -1.258 | 0.461   | -2.728  | 0.007   | \n",
       "| WEIGHT |  -0.073 | 0.025   | -2.914  | 0.004   | \n",
       "\n",
       "\n"
      ],
      "text/plain": [
       "            Estimate Std. Error t value Pr(>|t|)\n",
       "(Intercept) -23.794  7.177      -3.315  0.001   \n",
       "ABDOMEN       0.852  0.060      14.309  0.000   \n",
       "WRIST        -1.258  0.461      -2.728  0.007   \n",
       "WEIGHT       -0.073  0.025      -2.914  0.004   "
      ]
     },
     "metadata": {},
     "output_type": "display_data"
    }
   ],
   "source": [
    "source(\"code/models.R\");\n",
    "model.BIC<-lm(BODYFAT ~ ABDOMEN + WRIST + WEIGHT,data = train)\n",
    "round(summary(model.BIC)$coef,3)"
   ]
  },
  {
   "cell_type": "markdown",
   "metadata": {},
   "source": [
    "**Interpretation**: \n",
    "\n",
    "*ABDOMEN*: Keep other variables constant, if abdomen circumference increases by 1 cm, the body fat percentage will increase 0.85%.\n",
    "\n",
    "*WRIST*: Keep other variables constant, if wrist circumference increases by 1 cm, the body fat percentage will decrease 1.26%, etc."
   ]
  },
  {
   "cell_type": "markdown",
   "metadata": {},
   "source": [
    "### 3.1.2 Model Diagnosis"
   ]
  },
  {
   "cell_type": "code",
   "execution_count": 38,
   "metadata": {},
   "outputs": [
    {
     "name": "stdout",
     "output_type": "stream",
     "text": [
      "Multiple R squared: 0.7217\n",
      "MSE on the train set: 16.0271\n",
      "MSE on the validation set: 13.99"
     ]
    }
   ],
   "source": [
    "cat(\"Multiple R squared:\", round(summary(model.BIC)$r.squared,4))\n",
    "cat(\"\\nMSE on the train set:\", round(mean(model.BIC$residuals^2),4))\n",
    "mlr.mse <- mean((predict(model.BIC, data.frame(test[,-1]))-test$BODYFAT)^2);\n",
    "cat(\"\\nMSE on the validation set:\", round(mlr.mse,2))"
   ]
  },
  {
   "cell_type": "markdown",
   "metadata": {},
   "source": [
    "The adjusted R-squared for the final model is 0.7217, which indicates that the variables explain about 72% of all the variation in body fat %. Furthermore, the MSE based on train data is 16.0274 and error terms are approximately normal distributed and homogeneous(see figures below)."
   ]
  },
  {
   "cell_type": "code",
   "execution_count": 44,
   "metadata": {},
   "outputs": [
    {
     "data": {
      "image/png": "[encoded data removed]",
      "text/plain": [
       "plot without title"
      ]
     },
     "metadata": {},
     "output_type": "display_data"
    }
   ],
   "source": [
    "options(repr.plot.width=7.5, repr.plot.height=3);source(\"code/lasso.R\")\n",
    "multiplot(d1,d2,layout=matrix(data=c(1,2),nrow=1,byrow = T))"
   ]
  },
  {
   "cell_type": "markdown",
   "metadata": {},
   "source": [
    "Furthermore, we use *vif()* function to check multicollinearity between the variables selected. The result shows there is no significant multicollinearity among these variables and all the coefficients are significant"
   ]
  },
  {
   "cell_type": "code",
   "execution_count": 53,
   "metadata": {
    "scrolled": true
   },
   "outputs": [
    {
     "data": {
      "text/html": [
       "<dl class=dl-horizontal>\n",
       "\t<dt>ABDOMEN</dt>\n",
       "\t\t<dd>4.488</dd>\n",
       "\t<dt>WRIST</dt>\n",
       "\t\t<dd>1.989</dd>\n",
       "\t<dt>WEIGHT</dt>\n",
       "\t\t<dd>5.67</dd>\n",
       "</dl>\n"
      ],
      "text/latex": [
       "\\begin{description*}\n",
       "\\item[ABDOMEN] 4.488\n",
       "\\item[WRIST] 1.989\n",
       "\\item[WEIGHT] 5.67\n",
       "\\end{description*}\n"
      ],
      "text/markdown": [
       "ABDOMEN\n",
       ":   4.488WRIST\n",
       ":   1.989WEIGHT\n",
       ":   5.67\n",
       "\n"
      ],
      "text/plain": [
       "ABDOMEN   WRIST  WEIGHT \n",
       "  4.488   1.989   5.670 "
      ]
     },
     "metadata": {},
     "output_type": "display_data"
    }
   ],
   "source": [
    "options(warnings=-1);library(car);round(vif(model.BIC),3)"
   ]
  },
  {
   "cell_type": "markdown",
   "metadata": {},
   "source": [
    "## 3.2 LASSO"
   ]
  },
  {
   "cell_type": "markdown",
   "metadata": {},
   "source": [
    "Lasso is another approach to select variables. The advantage of this method is that we can minimize the MSE on the validation set. \n",
    "\n",
    "The model is still: \n",
    "$$ \\text{(Body Fat %)}_i = \\beta_0 + \\beta_1x_1 + \\dots + \\beta_p x_p$$\n",
    "\n",
    "However, instead of minimizing $\\sum\\limits_{i=1}^N (y_i-\\beta_0-\\beta_1x_i - \\dots - \\beta_px_p)^2$, as done by multiple linear regression, Lasso minimizes:\n",
    "\n",
    "$$\\sum\\limits_{i=1}^N (y_i-\\beta_0-\\beta_1x_i - \\dots - \\beta_px_p)^2 +\\lambda \\left|\\sum\\limits_{j=1}^p \\beta_j \\right| $$\n",
    "which is equivalent to:\n",
    "$$\\min\\limits_{\\beta} \\sum\\limits_{i=1}^N (y_i-\\beta_0-\\beta_1x_i - \\dots - \\beta_px_p)^2\\quad \\text{subject to}\\quad  \\left|\\sum\\limits_{j=1}^p \\beta_j \\right| \\leqslant t \\quad \\text{for some t}$$\n",
    "\n",
    "We try different $\\lambda^{(k)}$ to fit on the train set, then get coefficients $\\beta^{(k)} = (\\beta_0, \\beta_1, \\dots, \\beta_{14})^{(k)}$. Then we get a predictive equation $y = X^\\text{T}\\beta^{(k)}$ to predict the BodyFat% on the validation set. The figure below shows the result of Lasso method."
   ]
  },
  {
   "cell_type": "code",
   "execution_count": 45,
   "metadata": {},
   "outputs": [
    {
     "data": {},
     "metadata": {},
     "output_type": "display_data"
    },
    {
     "data": {
      "image/png": "[encoded data removed]",
      "text/plain": [
       "plot without title"
      ]
     },
     "metadata": {},
     "output_type": "display_data"
    }
   ],
   "source": [
    "source(\"code/lasso.R\");options(repr.plot.width=8, repr.plot.height=3);p"
   ]
  },
  {
   "cell_type": "markdown",
   "metadata": {},
   "source": [
    "**Interpretation**:\n",
    "* The x-axis indicates $\\log \\lambda$, and y-axis indicates MSE. \n",
    "* The numbers 0,1,...,14 in the label indicates the number of variables selected in that case. As $\\lambda$ increases, the number of variables selected decreases. \n",
    "* The grey verticle lines indicates where some variables are deleted.\n",
    "\n",
    "Based on the result, we choose $\\lambda$ to be 0.1824 (the highlighted point in the figure), because:\n",
    "* It select only 4 variables. The model is *simple*.\n",
    "* The MSE at this time is relatively small (around 15). The model is \"accurate\"."
   ]
  },
  {
   "cell_type": "code",
   "execution_count": 54,
   "metadata": {},
   "outputs": [
    {
     "name": "stdout",
     "output_type": "stream",
     "text": [
      "lambda:  0.1824\tMSE:  14.32"
     ]
    },
    {
     "data": {
      "text/html": [
       "<dl class=dl-horizontal>\n",
       "\t<dt>(Intercept)</dt>\n",
       "\t\t<dd>-8.087</dd>\n",
       "\t<dt>AGE</dt>\n",
       "\t\t<dd>0.033</dd>\n",
       "\t<dt>HEIGHT</dt>\n",
       "\t\t<dd>-0.186</dd>\n",
       "\t<dt>ABDOMEN</dt>\n",
       "\t\t<dd>0.662</dd>\n",
       "\t<dt>WRIST</dt>\n",
       "\t\t<dd>-1.242</dd>\n",
       "</dl>\n"
      ],
      "text/latex": [
       "\\begin{description*}\n",
       "\\item[(Intercept)] -8.087\n",
       "\\item[AGE] 0.033\n",
       "\\item[HEIGHT] -0.186\n",
       "\\item[ABDOMEN] 0.662\n",
       "\\item[WRIST] -1.242\n",
       "\\end{description*}\n"
      ],
      "text/markdown": [
       "(Intercept)\n",
       ":   -8.087AGE\n",
       ":   0.033HEIGHT\n",
       ":   -0.186ABDOMEN\n",
       ":   0.662WRIST\n",
       ":   -1.242\n",
       "\n"
      ],
      "text/plain": [
       "(Intercept)         AGE      HEIGHT     ABDOMEN       WRIST \n",
       "     -8.087       0.033      -0.186       0.662      -1.242 "
      ]
     },
     "metadata": {},
     "output_type": "display_data"
    }
   ],
   "source": [
    "cat(\"lambda: \", round(lambda,4));cat(\"\\tMSE: \", round(min.mse,2));round(coeff,3)"
   ]
  },
  {
   "cell_type": "markdown",
   "metadata": {},
   "source": [
    "# 4. Conclusion"
   ]
  },
  {
   "cell_type": "markdown",
   "metadata": {},
   "source": [
    "Based on the two different methods discussed before, we can propose two linear models to predict body fat %:\n",
    "\n",
    "$$\n",
    "\\begin{align} \n",
    "\\text{(BodyFat %)} &= -23.794+0.852*\\text{Abdomen}-1.258*\\text{Wrist}-0.073*\\text{Weight} \\\\\n",
    "\\text{(BodyFat %)} &= -8.087+0.662*\\text{Abdomen}-1.242*\\text{Wrist}-0.186*\\text{Height}+0.033*\\text{Age}\n",
    "\\end{align}\n",
    "$$\n",
    "\n",
    "The MSE for these two models are sepearately: 13.99, 14.32. Because the first model is simpler and more accurate, we prefer the first predictive equation.\n",
    "**Possible rule of thumb**: \"Your abdomen circumference (cm) multiply by 0.85 minus wrist circumference (cm) multiply by 1.26 minus weight (lbs) multiply by 0.07 minus 24\"\n",
    "\n",
    "**Example Usage**: For a normal graduate male student, with circumferences: Abdomen=85cm, Wrist=18cm, Weight=130lbs, his  predicted body fat percentage would be around 16.43%. A 95% probability that his body fat is between 8.26% and 24.59%.\n",
    "\n",
    "**Strengths and weakness**:\n",
    "* Our model selection is based on the prediction of validation set, which avoids the possibility of overfitting.\n",
    "* The final model is simple and easy to interpret.\n",
    "* In our analysis, we divide the original data into train and validation set, which may lose some information when building the model."
   ]
  },
  {
   "cell_type": "markdown",
   "metadata": {
    "collapsed": true
   },
   "source": [
    "### Contribution\n",
    "* **Shiwei Cao**: Lasso method; model checking; Summary writting\n",
    "* **Shurong Gu**: Variable selection and final model building; Summary writting\n",
    "* **Yuwei Sun**: Data preprocessing and presentation materials organizing; Making slides"
   ]
  }
 ],
 "metadata": {
  "kernelspec": {
   "display_name": "R",
   "language": "R",
   "name": "ir"
  },
  "language_info": {
   "codemirror_mode": "r",
   "file_extension": ".r",
   "mimetype": "text/x-r-source",
   "name": "R",
   "pygments_lexer": "r",
   "version": "3.4.2"
  }
 },
 "nbformat": 4,
 "nbformat_minor": 2
}
